import numpy as np
import matplotlib as mpl
import matplotlib.pyplot as plt
import pandas as pd
from selenium import webdriver
from selenium.webdriver.common.by import By

URLS = []
count = int(input("How many stocks would you like data for?"))

for i in range(count):
    z = input("Enter the abberviation at the end of the yahoo finance URL: ")
    URLS.append("https://finance.yahoo.com/quote/"+z)
    

data = []

driver = webdriver.Firefox()
for i in URLS:
    driver.get(i)
    stockNameElement = driver.find_element(By.XPATH,'/html/body/div[1]/main/section/section/section/article/section[1]/div[1]/div')
    stockPriceElement = driver.find_element(By.XPATH, '/html/body/div[1]/main/section/section/section/article/section[1]/div[2]/div[1]/section/div/section[1]/div[1]')
    stockNameText = stockNameElement.text
    stockPriceText = stockPriceElement.text
    stockPrice = stockPriceText.split()[0]
    stockPriceNumericalChange = stockPriceText.split()[1]
    stockPricePercentChange = stockPriceText.split()[2]
    x = [stockNameText,stockPrice,stockPriceNumericalChange,stockPricePercentChange]
    data.append(x)
driver.quit()
print(data)

dataColumns = ["Company", "Price","Numerical_Change","Percentage_Change"]
df = pd.DataFrame(data,columns = dataColumns)
df["Price"] = pd.to_numeric(df["Price"])
clean_df = df.replace("\nFollow","",regex=True)
clean_df = clean_df.set_index("Company")
print(clean_df)

plot = clean_df.plot(kind = "bar", title="Stock Prices Of Companies",)
