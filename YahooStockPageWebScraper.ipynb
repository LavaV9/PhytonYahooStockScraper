{
 "cells": [
  {
   "cell_type": "markdown",
   "id": "c4a39cb9-3235-42d3-b106-ca105a5a3ed3",
   "metadata": {},
   "source": [
    "Importing Neccesary Libraries"
   ]
  },
  {
   "cell_type": "code",
   "execution_count": 10,
   "id": "7a60f45c-9d89-4368-88b3-71907bf0cb34",
   "metadata": {},
   "outputs": [],
   "source": [
    "import numpy as np\n",
    "import matplotlib as mpl\n",
    "import matplotlib.pyplot as plt\n",
    "import pandas as pd\n",
    "from selenium import webdriver\n",
    "from selenium.webdriver.common.by import By\n",
    "from selenium.webdriver.firefox.options import Options"
   ]
  },
  {
   "cell_type": "markdown",
   "id": "a38de0b2-bdcb-447a-a87f-97fd0622df17",
   "metadata": {},
   "source": [
    "Making Sure the Browser is Seamless"
   ]
  },
  {
   "cell_type": "code",
   "execution_count": 11,
   "id": "fe982e33-ba5f-42f9-a03c-070d5d8395d7",
   "metadata": {},
   "outputs": [
    {
     "name": "stderr",
     "output_type": "stream",
     "text": [
      "The geckodriver version (0.33.0) detected in PATH at c:\\Users\\tvshe\\Downloads\\webdrivers\\geckodriver-v0.33.0-win64\\geckodriver.exe might not be compatible with the detected firefox version (129.0.0.2295); currently, geckodriver 0.35.0 is recommended for firefox 129.*, so it is advised to delete the driver in PATH and retry\n"
     ]
    }
   ],
   "source": [
    "options = Options()\n",
    "options.headless = True\n",
    "driver = webdriver.Firefox(options=options)"
   ]
  },
  {
   "cell_type": "markdown",
   "id": "2b8fd39e-c1b3-4384-9866-7e62a566dc99",
   "metadata": {},
   "source": [
    "Setting Up WebDriver and URLS for Scraping"
   ]
  },
  {
   "cell_type": "code",
   "execution_count": 12,
   "id": "3e4d1d7d-18d8-4280-acc4-85455e326969",
   "metadata": {},
   "outputs": [
    {
     "name": "stdin",
     "output_type": "stream",
     "text": [
      "How many stocks would you like data for? 1\n",
      "Enter the abberviation at the end of the yahoo finance URL:  NVDA\n"
     ]
    }
   ],
   "source": [
    "URLS = []\n",
    "count = int(input(\"How many stocks would you like data for?\"))\n",
    "\n",
    "for i in range(count):\n",
    "    z = input(\"Enter the abberviation at the end of the yahoo finance URL: \")\n",
    "    URLS.append(\"https://finance.yahoo.com/quote/\"+z)\n",
    "    \n",
    "\n",
    "data = []"
   ]
  },
  {
   "cell_type": "markdown",
   "id": "e6fd3e83-4602-4117-ad53-9d0f202b114e",
   "metadata": {},
   "source": [
    "Iterating Through Each URL In Order to Find Data"
   ]
  },
  {
   "cell_type": "code",
   "execution_count": 13,
   "id": "3f14271f-2173-4d1f-8436-6fa0184ca01a",
   "metadata": {},
   "outputs": [
    {
     "name": "stdout",
     "output_type": "stream",
     "text": [
      "[['NVIDIA Corporation (NVDA)\\nFollow\\nCompare', '98.91', '-5.34', '(-5.12%)']]\n"
     ]
    }
   ],
   "source": [
    "\n",
    "for i in URLS:\n",
    "    driver.get(i)\n",
    "    try:\n",
    "        stockNameElement = driver.find_element(By.XPATH,'/html/body/div[1]/main/section/section/section/article/section[1]/div[1]/div')\n",
    "        stockPriceElement = driver.find_element(By.XPATH, '/html/body/div[1]/main/section/section/section/article/section[1]/div[2]/div[1]/section/div/section[1]/div[1]')\n",
    "        stockNameText = stockNameElement.text\n",
    "        stockPriceText = stockPriceElement.text\n",
    "        stockPrice = stockPriceText.split()[0]\n",
    "        stockPriceNumericalChange = stockPriceText.split()[1]\n",
    "        stockPricePercentChange = stockPriceText.split()[2]\n",
    "        x = [stockNameText,stockPrice,stockPriceNumericalChange,stockPricePercentChange]\n",
    "        data.append(x)\n",
    "    except Exception as e:\n",
    "        print(\"You're url was not found\")\n",
    "driver.quit()\n",
    "print(data)\n"
   ]
  },
  {
   "cell_type": "markdown",
   "id": "74056020-1c3a-4661-85ae-69851662b946",
   "metadata": {},
   "source": [
    "Turning Data into DataFrame and Cleaning Up in Order for Plot Usage"
   ]
  },
  {
   "cell_type": "code",
   "execution_count": 14,
   "id": "1cefd5c9-5849-49d8-a24d-b3ccfd4dbd49",
   "metadata": {},
   "outputs": [
    {
     "name": "stdout",
     "output_type": "stream",
     "text": [
      "                                    Price Numerical_Change Percentage_Change\n",
      "Company                                                                     \n",
      "NVIDIA Corporation (NVDA)\\nCompare  98.91            -5.34          (-5.12%)\n"
     ]
    }
   ],
   "source": [
    "dataColumns = [\"Company\", \"Price\",\"Numerical_Change\",\"Percentage_Change\"]\n",
    "df = pd.DataFrame(data,columns = dataColumns)\n",
    "df[\"Price\"] = pd.to_numeric(df[\"Price\"])\n",
    "clean_df = df.replace(\"\\nFollow\",\"\",regex=True)\n",
    "clean_df = clean_df.set_index(\"Company\")\n",
    "print(clean_df)"
   ]
  },
  {
   "cell_type": "markdown",
   "id": "f02d2a7a-941f-4a37-911b-ad13eb4fc417",
   "metadata": {},
   "source": [
    "Creating a Bar Graph Out of Scraped Data"
   ]
  },
  {
   "cell_type": "code",
   "execution_count": 15,
   "id": "e981c2eb-a041-4188-bb57-1db7ca8169bd",
   "metadata": {},
   "outputs": [
    {
     "data": {
      "image/png": "[encoded data removed]",
      "text/plain": [
       "<Figure size 640x480 with 1 Axes>"
      ]
     },
     "metadata": {},
     "output_type": "display_data"
    }
   ],
   "source": [
    "\n",
    "plot = clean_df['Price'].plot(kind = \"bar\", title=\"Stock Prices Of Companies\",legend=False)\n",
    "plt.xlabel('Company')\n",
    "plt.ylabel('Price')\n",
    "plt.xticks(rotation=45, ha=\"right\")\n",
    "plt.tight_layout()\n",
    "plt.show()"
   ]
  },
  {
   "cell_type": "code",
   "execution_count": null,
   "id": "109b8ced-b016-41f3-9dd3-7d53a7a7b4be",
   "metadata": {},
   "outputs": [],
   "source": []
  }
 ],
 "metadata": {
  "kernelspec": {
   "display_name": "Python 3 (ipykernel)",
   "language": "python",
   "name": "python3"
  },
  "language_info": {
   "codemirror_mode": {
    "name": "ipython",
    "version": 3
   },
   "file_extension": ".py",
   "mimetype": "text/x-python",
   "name": "python",
   "nbconvert_exporter": "python",
   "pygments_lexer": "ipython3",
   "version": "3.12.2"
  }
 },
 "nbformat": 4,
 "nbformat_minor": 5
}
